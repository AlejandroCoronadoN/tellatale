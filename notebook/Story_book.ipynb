{
 "cells": [
  {
   "cell_type": "code",
   "execution_count": null,
   "metadata": {},
   "outputs": [],
   "source": [
    "import numpy as np\n",
    "import os\n",
    "import urllib.request as ur\n",
    "import ipywidgets as widgets\n",
    "from config.configuration import SETTINGS\n",
    "\n",
    "from openai import OpenAI\n",
    "from IPython.display import IFrame, HTML\n",
    "os.environ[\"OPENAI_API_KEY\"] = SETTINGS.openai_api_key\n",
    "from config.configuration import SETTINGS\n",
    "\n",
    "client = OpenAI(\n",
    "    # defaults to os.environ.get(\"OPENAI_API_KEY\")\n",
    "    # or you can explicitly pass in the key (NOT RECOMMENDED)\n",
    "    api_key=os.getenv(\"OPENAI_KEY\"),\n",
    ")\n",
    "\n",
    "client\n"
   ]
  },
  {
   "cell_type": "code",
   "execution_count": null,
   "metadata": {},
   "outputs": [],
   "source": []
  },
  {
   "cell_type": "code",
   "execution_count": null,
   "metadata": {},
   "outputs": [],
   "source": [
    "image_size = 1024\n",
    "\n",
    "response = client.images.generate(\n",
    "    model=\"dall-e-3\",\n",
    "    prompt=\"\"\"\n",
    "    Everything should be painted with the Van Gogh style.\n",
    "    A dinosaur playing guitar with flames in the background.\n",
    "    \"\"\",\n",
    "    size=f\"{image_size}x{image_size}\"\n",
    ")\n",
    "\n",
    "image_url = response.model_dump()['data'][0]['url']\n",
    "IFrame(src=image_url, width=image_size, height=image_size)"
   ]
  },
  {
   "cell_type": "code",
   "execution_count": null,
   "metadata": {},
   "outputs": [],
   "source": []
  },
  {
   "cell_type": "code",
   "execution_count": null,
   "metadata": {},
   "outputs": [],
   "source": []
  }
 ],
 "metadata": {
  "kernelspec": {
   "display_name": "chatgpt-sprint",
   "language": "python",
   "name": "python3"
  },
  "language_info": {
   "name": "python",
   "version": "3.12.0"
  },
  "orig_nbformat": 4,
  "vscode": {
   "interpreter": {
    "hash": "fd3f83c403a6095c93d728edcaf2ffe085649c04d3e97d57cd773ee4e26b7705"
   }
  }
 },
 "nbformat": 4,
 "nbformat_minor": 2
}
